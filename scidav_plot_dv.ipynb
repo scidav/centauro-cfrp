{
 "cells": [
  {
   "cell_type": "code",
   "execution_count": 17,
   "id": "44d5c3a2",
   "metadata": {},
   "outputs": [],
   "source": [
    "import matplotlib.pyplot as plt\n",
    "import pandas as pd\n",
    "import numpy as np\n",
    "\n",
    "import os\n",
    "import glob\n",
    "\n",
    "\n",
    "# wd = r'E:\\SANDBOX\\02-Tecnofink_Models_RSM\\TK-tsAN100'\n",
    "wd = r'E:\\SANDBOX\\01-Macseal_Models_RSM\\M02\\MA-tcAN002'\n",
    "# wd = r'E:\\SANDBOX\\tsAN060'\n",
    "# wd = r'C:\\Temp\\Sandbox\\tsAN065'\n",
    "os.chdir(wd)\n",
    "\n",
    "h_files = glob.glob(wd+'/HashinOutputs/*.txt')\n",
    "l_files = glob.glob(wd+'/LoadResults/*.txt')\n",
    "\n",
    "h_files.sort()\n",
    "l_files.sort()\n"
   ]
  },
  {
   "cell_type": "code",
   "execution_count": 18,
   "id": "03006169",
   "metadata": {},
   "outputs": [
    {
     "name": "stdout",
     "output_type": "stream",
     "text": [
      "E:\\SANDBOX\\01-Macseal_Models_RSM\\M02\\MA-tcAN002/HashinOutputs\\HS--MA03-D15-tcAN002.txt\n",
      "E:\\SANDBOX\\01-Macseal_Models_RSM\\M02\\MA-tcAN002/LoadResults\\LD-MA03-D15-tcAN002.txt\n"
     ]
    }
   ],
   "source": [
    "print(f'{h_files[0]}\\n{l_files[0]}')"
   ]
  },
  {
   "cell_type": "code",
   "execution_count": 19,
   "id": "9e85b3b4",
   "metadata": {},
   "outputs": [
    {
     "name": "stdout",
     "output_type": "stream",
     "text": [
      "E:\\SANDBOX\\01-Macseal_Models_RSM\\M02\\MA-tcAN002\n",
      "-MA03-D15-tcAN002\n"
     ]
    }
   ],
   "source": [
    "print(os.getcwd())\n",
    "print(h_files[0].split('\\\\')[-1][3:-4])"
   ]
  },
  {
   "cell_type": "code",
   "execution_count": 20,
   "id": "1b454d02",
   "metadata": {},
   "outputs": [
    {
     "name": "stdout",
     "output_type": "stream",
     "text": [
      "566.679382324\t0.4295390546321869\n",
      "553.315368652\t0.9668955206871032\n",
      "539.384887695\t1.0\n",
      "2462.27734375\t0.4346238672733307\n",
      "2320.68139648\t0.700644314289093\n",
      "2245.51513672\t0.6373795866966248\n",
      "541.040100098\t1.0\n",
      "536.709411621\t0.7179992198944092\n",
      "234.94569397\t0.8115699291229248\n",
      "235.061813354\t0.6218958497047424\n",
      "128.794723511\t0.6421112418174744\n",
      "Results were exported successfully!!\n"
     ]
    }
   ],
   "source": [
    "ls_out = []\n",
    "for i in range(len(h_files)):\n",
    "    idx=i\n",
    "    df_h = pd.read_csv(h_files[idx], sep='\\t')\n",
    "    df_l = pd.read_csv(l_files[idx], sep='\\t')\n",
    "    df_l.columns = [\"Disp\",\"Load\"]\n",
    "    df_h.columns = [\"Step\",\"Hash\"]\n",
    "    dt = pd.DataFrame()\n",
    "    dt[\"Step\"] = df_h[\"Step\"]\n",
    "    dt[\"Load\"] = df_l[\"Load\"]\n",
    "    dt[\"Hash\"] = df_h[\"Hash\"]\n",
    "    # max_load_idx = list(filtered[\"Step\"])[-1]\n",
    "    if dt[\"Hash\"].loc[dt[\"Load\"].idxmax()] <= 1.0:\n",
    "        max_l_idx = dt['Load'].idxmax()\n",
    "        out_line = [idx,\"A\", h_files[idx].split('\\\\')[-1][3:-4], float(dt[\"Load\"].loc[max_l_idx]), float(dt[\"Hash\"].loc[max_l_idx])]\n",
    "        # print([\"A\", dt[\"Hash\"].loc[max_l_idx], dt[\"Load\"].loc[max_l_idx]])\n",
    "    else:\n",
    "        mask = dt[\"Hash\"]<=1.0\n",
    "        filtered = dt[mask]\n",
    "        max_l_idx = filtered[\"Load\"].idxmax()\n",
    "        out_line = [idx,\"B\", h_files[idx].split('\\\\')[-1][3:-4], float(filtered[\"Load\"].loc[max_l_idx]), float(filtered[\"Hash\"].loc[max_l_idx])]\n",
    "        # print([\"B\", filtered[\"Hash\"].loc[max_l_idx], filtered[\"Load\"].loc[max_l_idx]])\n",
    "    #\n",
    "    ls_out.append(out_line)\n",
    "    print(f'{out_line[-2]}\\t{out_line[-1]}')\n",
    "    \n",
    "\n",
    "dfo = pd.DataFrame(ls_out)\n",
    "dfo.columns = [\"ID\",\"Type\",\"Model\",\"Load\",\"Hash\"]\n",
    "# dfo[\"Intact\"] = [2114.00, 2114.00, 2114.00, 2114.00, \n",
    "#                  1221.00, 1221.00, 1221.00, 1221.00, \n",
    "#                  565.00 ,  565.00,  565.00,  565.00, \n",
    "#                  2283.00, 2283.00, 2283.00, 2283.00, \n",
    "#                  553.00 ,  553.00,  553.00,  553.00, \n",
    "#                  236.00 ,  236.00,  236.00,  236.00, \n",
    "#                  140.00 ,  140.00,  140.00,  140.00]\n",
    "# dfo[\"diff(%)\"] = 100.0*(dfo[\"Load\"]-dfo[\"Intact\"])/dfo[\"Intact\"]\n",
    "dfo.to_csv(\"{0:}/{1:}_HLout_Results.csv\".format(wd, h_files[0].split('\\\\')[-1][3:-4]), sep=\",\")\n",
    "print(\"Results were exported successfully!!\")\n"
   ]
  },
  {
   "cell_type": "code",
   "execution_count": 37,
   "id": "e6989ed9",
   "metadata": {},
   "outputs": [
    {
     "name": "stdout",
     "output_type": "stream",
     "text": [
      "['A', np.float64(0.73939448595047), np.float64(146.323028564)]\n"
     ]
    }
   ],
   "source": [
    "idx=27\n",
    "df_h = pd.read_csv(h_files[idx], sep='\\t')\n",
    "df_l = pd.read_csv(l_files[idx], sep='\\t')\n",
    "df_l.columns = [\"Disp\",\"Load\"]\n",
    "df_h.columns = [\"Step\",\"Hash\"]\n",
    "dt = pd.DataFrame()\n",
    "dt[\"Step\"] = df_h[\"Step\"]\n",
    "dt[\"Load\"] = df_l[\"Load\"]\n",
    "dt[\"Hash\"] = df_h[\"Hash\"]\n",
    "\n",
    "if dt[\"Hash\"].max() < 1.0:\n",
    "    max_l_idx = dt['Load'].idxmax()\n",
    "    print([\"A\", dt[\"Hash\"].loc[max_l_idx], dt[\"Load\"].loc[max_l_idx]])\n",
    "else:\n",
    "    mask = dt[\"Hash\"]<=1.0\n",
    "    filtered = dt[mask]\n",
    "    max_l_idx = list(filtered[\"Step\"])[-1]\n",
    "    print([\"B\", dt[\"Hash\"].loc[max_l_idx], dt[\"Load\"].loc[max_l_idx]])\n",
    "\n",
    "# mask = dt[\"Hash\"]<=1.0\n",
    "# filtered = dt[mask]\n",
    "# filtered"
   ]
  },
  {
   "cell_type": "code",
   "execution_count": null,
   "id": "a94acbd5",
   "metadata": {},
   "outputs": [],
   "source": []
  }
 ],
 "metadata": {
  "kernelspec": {
   "display_name": "base",
   "language": "python",
   "name": "python3"
  },
  "language_info": {
   "codemirror_mode": {
    "name": "ipython",
    "version": 3
   },
   "file_extension": ".py",
   "mimetype": "text/x-python",
   "name": "python",
   "nbconvert_exporter": "python",
   "pygments_lexer": "ipython3",
   "version": "3.11.4"
  }
 },
 "nbformat": 4,
 "nbformat_minor": 5
}
